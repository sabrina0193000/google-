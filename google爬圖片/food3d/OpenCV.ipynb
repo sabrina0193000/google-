{
 "cells": [
  {
   "cell_type": "code",
   "execution_count": null,
   "metadata": {},
   "outputs": [],
   "source": [
    "import numpy as np\n",
    "import os\n",
    "import cv2\n",
    "\n",
    "#1、r代表後面是完整字串  \n",
    "#2、把 \\ 全改成 / \n",
    "#3、把 \\ 改成 //\n",
    "DATADIR=r\"C:\\Users\\DA01010\\Desktop\\metting\\Tibame\\food\\Japanfood\\Japan_egg\"\n",
    "\n",
    "#想改像素\n",
    "IMG_SIZE = 256\n",
    "#使用os.path模塊的join方法生成路徑'''\n",
    "path = os.path.join(DATADIR) \n",
    "#使用os.listdir(path)函數，返回path路徑下所有文件的名字，以及文件夾的名字，\n",
    "#序並沒有按照從小到大的順序排列\n",
    "img_list = os.listdir(path)\n",
    "ind = 0\n",
    "\n",
    "# path = \"./japanfood/\"\n",
    "# if not os.path.isdir(\"GGG\"):\n",
    "#     os.mkdir(\"GGG\")\n",
    "\n",
    "for i in img_list:\n",
    "    #調用cv2.imread讀入圖片，讀入格式爲IMREAD_COLOR'''\n",
    "    img_array = cv2.imread(os.path.join(path,i),cv2.IMREAD_COLOR)\n",
    "    #'''調用cv2.resize函數resize圖片'''\n",
    "    new_array=cv2.resize(img_array,(IMG_SIZE,IMG_SIZE))\n",
    "    img_name=str(ind)+'.jpg'\n",
    "    #'''生成圖片存儲的目標路徑'''\n",
    "    save_path=r'C:\\Users\\DA01010\\Desktop\\metting\\Tibame\\food\\Japanfood\\egg256/'+str(ind)+'.jpg'\n",
    "    ind=ind+1\n",
    "    #'''調用cv.2的imwrite函數保存圖片'''\n",
    "    cv2.imwrite(save_path,new_array)\n"
   ]
  }
 ],
 "metadata": {
  "kernelspec": {
   "display_name": "Python 3",
   "language": "python",
   "name": "python3"
  },
  "language_info": {
   "codemirror_mode": {
    "name": "ipython",
    "version": 3
   },
   "file_extension": ".py",
   "mimetype": "text/x-python",
   "name": "python",
   "nbconvert_exporter": "python",
   "pygments_lexer": "ipython3",
   "version": "3.8.5"
  }
 },
 "nbformat": 4,
 "nbformat_minor": 4
}
