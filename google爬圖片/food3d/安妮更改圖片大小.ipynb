{
 "cells": [
  {
   "cell_type": "markdown",
   "metadata": {},
   "source": [
    "# kimchi1 64"
   ]
  },
  {
   "cell_type": "code",
   "execution_count": 1,
   "metadata": {},
   "outputs": [],
   "source": [
    "import os  \n",
    "import time  \n",
    "import cv2  \n",
    "def alter(path,object):  \n",
    "    result = []  \n",
    "    s = os.listdir(path)  \n",
    "    count = 1  \n",
    "    for i in s:  \n",
    "        document = os.path.join(path,i)  \n",
    "        img = cv2.imread(document)  \n",
    "        img = cv2.resize(img, (64,64))  \n",
    "        listStr = [str(int(time.time())), str(count)]  \n",
    "        fileName = ''.join(listStr)  \n",
    "        cv2.imwrite(object+os.sep+'%s.jpg' % fileName, img)  \n",
    "        count = count + 1\n",
    "    \n",
    "alter('./kimchi','./kimchi64')  "
   ]
  },
  {
   "cell_type": "markdown",
   "metadata": {},
   "source": [
    "# kimchi128"
   ]
  },
  {
   "cell_type": "code",
   "execution_count": 5,
   "metadata": {},
   "outputs": [],
   "source": [
    "import os  \n",
    "import time  \n",
    "import cv2  \n",
    "def alter(path,object):  \n",
    "    result = []  \n",
    "    s = os.listdir(path)  \n",
    "    count = 1  \n",
    "    for i in s:  \n",
    "        document = os.path.join(path,i)  \n",
    "        img = cv2.imread(document)  \n",
    "        img = cv2.resize(img, (128,128))  \n",
    "        listStr = [str(int(time.time())), str(count)]  \n",
    "        fileName = ''.join(listStr)  \n",
    "        cv2.imwrite(object+os.sep+'%s.jpg' % fileName, img)  \n",
    "        count = count + 1\n",
    "    \n",
    "alter('./kimchi','./kimchi128')  "
   ]
  },
  {
   "cell_type": "markdown",
   "metadata": {},
   "source": [
    "# kimchi256"
   ]
  },
  {
   "cell_type": "code",
   "execution_count": 7,
   "metadata": {},
   "outputs": [],
   "source": [
    "import os  \n",
    "import time  \n",
    "import cv2  \n",
    "def alter(path,object):  \n",
    "    result = []  \n",
    "    s = os.listdir(path)  \n",
    "    count = 1  \n",
    "    for i in s:  \n",
    "        document = os.path.join(path,i)  \n",
    "        img = cv2.imread(document)  \n",
    "        img = cv2.resize(img, (256,256))  \n",
    "        listStr = [str(int(time.time())), str(count)]  \n",
    "        fileName = ''.join(listStr)  \n",
    "        cv2.imwrite(object+os.sep+'%s.jpg' % fileName, img)  \n",
    "        count = count + 1\n",
    "    \n",
    "alter('./kimchi','./kimchi256')  "
   ]
  },
  {
   "cell_type": "markdown",
   "metadata": {},
   "source": [
    "# jeon64"
   ]
  },
  {
   "cell_type": "code",
   "execution_count": 15,
   "metadata": {},
   "outputs": [],
   "source": [
    "import cv2\n",
    "pic = cv2.imread('./jeon/jeon (1).jpg')\n",
    "pic = cv2.resize(pic, (128, 128), interpolation=cv2.INTER_CUBIC)\n",
    "cv2.imshow('', pic)\n",
    "cv2.waitKey(0)\n",
    "cv2.destroyAllWindows()"
   ]
  },
  {
   "cell_type": "code",
   "execution_count": 18,
   "metadata": {},
   "outputs": [],
   "source": [
    "import os  \n",
    "import time  \n",
    "import cv2  \n",
    "def alter(path,object):  \n",
    "    result = []  \n",
    "    s = os.listdir(path)  \n",
    "    count = 1  \n",
    "    for i in s:  \n",
    "        document = os.path.join(path,i)  \n",
    "        img = cv2.imread(document)  \n",
    "        img = cv2.resize(img, (64,64))  \n",
    "        listStr = [str(int(time.time())), str(count)]  \n",
    "        fileName = ''.join(listStr)  \n",
    "        cv2.imwrite(object+os.sep+'%s.jpg' % fileName, img)  \n",
    "        count = count + 1\n",
    "    \n",
    "alter('./jeon','./jeon64')  "
   ]
  },
  {
   "cell_type": "markdown",
   "metadata": {},
   "source": [
    "# jeon128"
   ]
  },
  {
   "cell_type": "code",
   "execution_count": 20,
   "metadata": {},
   "outputs": [],
   "source": [
    "import os  \n",
    "import time  \n",
    "import cv2  \n",
    "def alter(path,object):  \n",
    "    result = []  \n",
    "    s = os.listdir(path)  \n",
    "    count = 1  \n",
    "    for i in s:  \n",
    "        document = os.path.join(path,i)  \n",
    "        img = cv2.imread(document)  \n",
    "        img = cv2.resize(img, (128,128))  \n",
    "        listStr = [str(int(time.time())), str(count)]  \n",
    "        fileName = ''.join(listStr)  \n",
    "        cv2.imwrite(object+os.sep+'%s.jpg' % fileName, img)  \n",
    "        count = count + 1\n",
    "    \n",
    "alter('./jeon','./jeon128')  "
   ]
  },
  {
   "cell_type": "markdown",
   "metadata": {},
   "source": [
    "# jeon256"
   ]
  },
  {
   "cell_type": "code",
   "execution_count": 21,
   "metadata": {},
   "outputs": [],
   "source": [
    "import os  \n",
    "import time  \n",
    "import cv2  \n",
    "def alter(path,object):  \n",
    "    result = []  \n",
    "    s = os.listdir(path)  \n",
    "    count = 1  \n",
    "    for i in s:  \n",
    "        document = os.path.join(path,i)  \n",
    "        img = cv2.imread(document)  \n",
    "        img = cv2.resize(img, (256,256))  \n",
    "        listStr = [str(int(time.time())), str(count)]  \n",
    "        fileName = ''.join(listStr)  \n",
    "        cv2.imwrite(object+os.sep+'%s.jpg' % fileName, img)  \n",
    "        count = count + 1\n",
    "    \n",
    "alter('./jeon','./jeon256')"
   ]
  },
  {
   "cell_type": "code",
   "execution_count": null,
   "metadata": {},
   "outputs": [],
   "source": []
  }
 ],
 "metadata": {
  "kernelspec": {
   "display_name": "Python 3",
   "language": "python",
   "name": "python3"
  },
  "language_info": {
   "codemirror_mode": {
    "name": "ipython",
    "version": 3
   },
   "file_extension": ".py",
   "mimetype": "text/x-python",
   "name": "python",
   "nbconvert_exporter": "python",
   "pygments_lexer": "ipython3",
   "version": "3.8.5"
  }
 },
 "nbformat": 4,
 "nbformat_minor": 4
}
